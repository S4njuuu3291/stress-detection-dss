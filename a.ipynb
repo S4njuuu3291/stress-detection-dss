{
 "cells": [
  {
   "cell_type": "code",
   "execution_count": 1,
   "metadata": {},
   "outputs": [],
   "source": [
    "import numpy as np \n",
    "import pandas as pd\n",
    "import matplotlib.pyplot as plt\n",
    "import seaborn as sns\n",
    "%matplotlib inline\n",
    "\n",
    "import os"
   ]
  },
  {
   "cell_type": "code",
   "execution_count": 2,
   "metadata": {},
   "outputs": [
    {
     "data": {
      "text/html": [
       "<div>\n",
       "<style scoped>\n",
       "    .dataframe tbody tr th:only-of-type {\n",
       "        vertical-align: middle;\n",
       "    }\n",
       "\n",
       "    .dataframe tbody tr th {\n",
       "        vertical-align: top;\n",
       "    }\n",
       "\n",
       "    .dataframe thead th {\n",
       "        text-align: right;\n",
       "    }\n",
       "</style>\n",
       "<table border=\"1\" class=\"dataframe\">\n",
       "  <thead>\n",
       "    <tr style=\"text-align: right;\">\n",
       "      <th></th>\n",
       "      <th>Humidity</th>\n",
       "      <th>Temperature</th>\n",
       "      <th>Step_count</th>\n",
       "      <th>Stress_Level</th>\n",
       "    </tr>\n",
       "  </thead>\n",
       "  <tbody>\n",
       "    <tr>\n",
       "      <th>0</th>\n",
       "      <td>21.33</td>\n",
       "      <td>90.33</td>\n",
       "      <td>123</td>\n",
       "      <td>1</td>\n",
       "    </tr>\n",
       "    <tr>\n",
       "      <th>1</th>\n",
       "      <td>21.41</td>\n",
       "      <td>90.41</td>\n",
       "      <td>93</td>\n",
       "      <td>1</td>\n",
       "    </tr>\n",
       "    <tr>\n",
       "      <th>2</th>\n",
       "      <td>27.12</td>\n",
       "      <td>96.12</td>\n",
       "      <td>196</td>\n",
       "      <td>2</td>\n",
       "    </tr>\n",
       "    <tr>\n",
       "      <th>3</th>\n",
       "      <td>27.64</td>\n",
       "      <td>96.64</td>\n",
       "      <td>177</td>\n",
       "      <td>2</td>\n",
       "    </tr>\n",
       "    <tr>\n",
       "      <th>4</th>\n",
       "      <td>10.87</td>\n",
       "      <td>79.87</td>\n",
       "      <td>87</td>\n",
       "      <td>0</td>\n",
       "    </tr>\n",
       "  </tbody>\n",
       "</table>\n",
       "</div>"
      ],
      "text/plain": [
       "   Humidity  Temperature  Step_count  Stress_Level\n",
       "0     21.33        90.33         123             1\n",
       "1     21.41        90.41          93             1\n",
       "2     27.12        96.12         196             2\n",
       "3     27.64        96.64         177             2\n",
       "4     10.87        79.87          87             0"
      ]
     },
     "execution_count": 2,
     "metadata": {},
     "output_type": "execute_result"
    }
   ],
   "source": [
    "data=pd.read_csv('./Stress-Lysis.csv')\n",
    "data.head()  # displays the first five rows of the dataframe"
   ]
  },
  {
   "cell_type": "code",
   "execution_count": 3,
   "metadata": {},
   "outputs": [
    {
     "data": {
      "text/plain": [
       "(2001, 4)"
      ]
     },
     "execution_count": 3,
     "metadata": {},
     "output_type": "execute_result"
    }
   ],
   "source": [
    "data.shape"
   ]
  },
  {
   "cell_type": "code",
   "execution_count": null,
   "metadata": {},
   "outputs": [
    {
     "name": "stdout",
     "output_type": "stream",
     "text": [
      "Epoch 1/50\n",
      "50/50 [==============================] - 0s 4ms/step - loss: 3.4712 - accuracy: 0.5169 - val_loss: 0.5216 - val_accuracy: 0.7232\n",
      "Epoch 2/50\n",
      "50/50 [==============================] - 0s 2ms/step - loss: 0.4665 - accuracy: 0.7594 - val_loss: 0.4271 - val_accuracy: 0.7880\n",
      "Epoch 3/50\n",
      "50/50 [==============================] - 0s 2ms/step - loss: 0.3828 - accuracy: 0.8181 - val_loss: 0.3456 - val_accuracy: 0.8653\n",
      "Epoch 4/50\n",
      "50/50 [==============================] - 0s 2ms/step - loss: 0.3453 - accuracy: 0.8650 - val_loss: 0.3115 - val_accuracy: 0.9127\n",
      "Epoch 5/50\n",
      "50/50 [==============================] - 0s 2ms/step - loss: 0.3065 - accuracy: 0.8850 - val_loss: 0.2675 - val_accuracy: 0.9451\n",
      "Epoch 6/50\n",
      "50/50 [==============================] - 0s 2ms/step - loss: 0.2969 - accuracy: 0.8769 - val_loss: 0.3007 - val_accuracy: 0.8579\n",
      "Epoch 7/50\n",
      "50/50 [==============================] - 0s 2ms/step - loss: 0.2501 - accuracy: 0.9187 - val_loss: 0.2198 - val_accuracy: 0.9327\n",
      "Epoch 8/50\n",
      "50/50 [==============================] - 0s 2ms/step - loss: 0.2276 - accuracy: 0.9306 - val_loss: 0.1972 - val_accuracy: 0.9551\n",
      "Epoch 9/50\n",
      "50/50 [==============================] - 0s 2ms/step - loss: 0.2156 - accuracy: 0.9306 - val_loss: 0.1808 - val_accuracy: 0.9751\n",
      "Epoch 10/50\n",
      "50/50 [==============================] - 0s 2ms/step - loss: 0.2062 - accuracy: 0.9262 - val_loss: 0.1994 - val_accuracy: 0.9177\n",
      "Epoch 11/50\n",
      "50/50 [==============================] - 0s 2ms/step - loss: 0.1884 - accuracy: 0.9444 - val_loss: 0.1702 - val_accuracy: 0.9576\n",
      "Epoch 12/50\n",
      "50/50 [==============================] - 0s 2ms/step - loss: 0.1756 - accuracy: 0.9469 - val_loss: 0.1462 - val_accuracy: 0.9825\n",
      "Epoch 13/50\n",
      "50/50 [==============================] - 0s 2ms/step - loss: 0.1598 - accuracy: 0.9631 - val_loss: 0.1496 - val_accuracy: 0.9676\n",
      "Epoch 14/50\n",
      "50/50 [==============================] - 0s 2ms/step - loss: 0.1576 - accuracy: 0.9556 - val_loss: 0.1281 - val_accuracy: 0.9850\n",
      "Epoch 15/50\n",
      "50/50 [==============================] - 0s 2ms/step - loss: 0.1427 - accuracy: 0.9700 - val_loss: 0.1188 - val_accuracy: 0.9875\n",
      "Epoch 16/50\n",
      "50/50 [==============================] - 0s 2ms/step - loss: 0.1376 - accuracy: 0.9644 - val_loss: 0.1147 - val_accuracy: 0.9800\n",
      "Epoch 17/50\n",
      "50/50 [==============================] - 0s 2ms/step - loss: 0.1293 - accuracy: 0.9731 - val_loss: 0.1518 - val_accuracy: 0.9476\n",
      "Epoch 18/50\n",
      "50/50 [==============================] - 0s 2ms/step - loss: 0.1246 - accuracy: 0.9706 - val_loss: 0.1015 - val_accuracy: 0.9925\n",
      "Epoch 19/50\n",
      "50/50 [==============================] - 0s 2ms/step - loss: 0.1127 - accuracy: 0.9825 - val_loss: 0.1092 - val_accuracy: 0.9551\n",
      "Epoch 20/50\n",
      "50/50 [==============================] - 0s 2ms/step - loss: 0.1087 - accuracy: 0.9756 - val_loss: 0.1010 - val_accuracy: 0.9701\n",
      "Epoch 21/50\n",
      "50/50 [==============================] - 0s 2ms/step - loss: 0.1057 - accuracy: 0.9712 - val_loss: 0.1072 - val_accuracy: 0.9501\n",
      "Epoch 22/50\n",
      "50/50 [==============================] - 0s 2ms/step - loss: 0.1071 - accuracy: 0.9650 - val_loss: 0.0870 - val_accuracy: 0.9726\n",
      "Epoch 23/50\n",
      "50/50 [==============================] - 0s 2ms/step - loss: 0.0953 - accuracy: 0.9787 - val_loss: 0.0780 - val_accuracy: 0.9950\n",
      "Epoch 24/50\n",
      "50/50 [==============================] - 0s 2ms/step - loss: 0.0979 - accuracy: 0.9725 - val_loss: 0.0739 - val_accuracy: 0.9950\n",
      "Epoch 25/50\n",
      "50/50 [==============================] - 0s 2ms/step - loss: 0.0906 - accuracy: 0.9831 - val_loss: 0.0815 - val_accuracy: 0.9875\n",
      "Epoch 26/50\n",
      "44/50 [=========================>....] - ETA: 0s - loss: 0.0818 - accuracy: 0.9908\n",
      "Epoch 26: val_accuracy reached 1.0. Stopping training.\n",
      "50/50 [==============================] - 0s 2ms/step - loss: 0.0837 - accuracy: 0.9887 - val_loss: 0.0660 - val_accuracy: 1.0000\n",
      "13/13 [==============================] - 0s 1ms/step - loss: 0.0660 - accuracy: 1.0000\n",
      "Test Accuracy: 1.0\n"
     ]
    },
    {
     "name": "stderr",
     "output_type": "stream",
     "text": [
      "C:\\Users\\LENOVO\\AppData\\Roaming\\Python\\Python311\\site-packages\\keras\\src\\engine\\training.py:3103: UserWarning: You are saving your model as an HDF5 file via `model.save()`. This file format is considered legacy. We recommend using instead the native Keras format, e.g. `model.save('my_model.keras')`.\n",
      "  saving_api.save_model(\n"
     ]
    }
   ],
   "source": [
    "import pandas as pd\n",
    "import numpy as np\n",
    "from sklearn.model_selection import train_test_split\n",
    "from tensorflow.keras.models import Sequential\n",
    "from tensorflow.keras.layers import Dense, Conv1D, Flatten, Dropout\n",
    "from tensorflow.keras.utils import to_categorical\n",
    "from tensorflow.keras.callbacks import Callback\n",
    "import os\n",
    "\n",
    "class StopTrainingOnHighAccuracy(Callback):\n",
    "    def __init__(self, monitor='val_accuracy', target=1.0, save_path=\"final_model.h5\"):\n",
    "        super().__init__()\n",
    "        self.monitor = monitor\n",
    "        self.target = target\n",
    "        self.save_path = save_path\n",
    "\n",
    "    def on_epoch_end(self, epoch, logs=None):\n",
    "        logs = logs or {}\n",
    "        current = logs.get(self.monitor)\n",
    "        \n",
    "        if current is not None and current >= self.target:\n",
    "            print(f\"\\nEpoch {epoch + 1}: {self.monitor} reached {self.target}. Stopping training.\")\n",
    "            # Save the model\n",
    "            self.model.save(self.save_path)\n",
    "            self.model.stop_training = True\n",
    "# Separate features and target\n",
    "X = data.drop(columns=['Stress_Level']).values  # Features\n",
    "y = data['Stress_Level'].values  # Target\n",
    "y = to_categorical(y, num_classes=3)\n",
    "# Split data into train and test sets\n",
    "X_train, X_test, y_train, y_test = train_test_split(X, y, test_size=0.2, random_state=42)\n",
    "\n",
    "# Build CNN model with smaller kernel size\n",
    "model = Sequential()\n",
    "model.add(Dense(128, activation='relu', input_shape=(X_train.shape[1],)))\n",
    "model.add(Dense(3, activation='softmax'))\n",
    "\n",
    "# Compile the model\n",
    "model.compile(optimizer='adam', loss='categorical_crossentropy', metrics=['accuracy'])\n",
    "\n",
    "# Train the model\n",
    "model_save_path = \"final_model.h5\"\n",
    "stop_training_callback = StopTrainingOnHighAccuracy(\n",
    "    monitor='val_accuracy', \n",
    "    target=1.0, \n",
    "    save_path=model_save_path\n",
    ")\n",
    "history = model.fit(X_train, y_train, epochs=50, batch_size=32, validation_data=(X_test, y_test), callbacks=[stop_training_callback])\n",
    "\n",
    "\n",
    "# Evaluate the model\n",
    "test_loss, test_accuracy = model.evaluate(X_test, y_test)\n",
    "print(\"Test Accuracy:\", test_accuracy)"
   ]
  },
  {
   "cell_type": "code",
   "execution_count": null,
   "metadata": {},
   "outputs": [
    {
     "name": "stdout",
     "output_type": "stream",
     "text": [
      "1/1 [==============================] - 0s 17ms/step\n",
      "Predicted Stress Level: [2]\n"
     ]
    }
   ],
   "source": [
    "def celsius_to_fahrenheit(celsius):\n",
    "    fahrenheit = (celsius * 9/5) + 32\n",
    "    return fahrenheit\n",
    "\n",
    "new_data = np.array([[21.33, celsius_to_fahrenheit(32.4), 123]])  # Ganti dengan nilai fitur yang diinginkan\n",
    "\n",
    "# Pastikan jumlah fitur sesuai dengan yang digunakan saat training\n",
    "# Preprocessing sama seperti saat training\n",
    "# new_data_scaled = scaler.transform(new_data)  # Scaling menggunakan scaler yang sama\n",
    "# new_data_reshaped = new_data_scaled.reshape((new_data_scaled.shape[0], new_data_scaled.shape[1], 1))\n",
    "\n",
    "# Melakukan prediksi\n",
    "prediction = model.predict(new_data)\n",
    "predicted_class = np.argmax(prediction, axis=1)  # Mendapatkan kelas prediksi\n",
    "\n",
    "# Convert predicted class back to original label\n",
    "# predicted_label = label_encoder.inverse_transform(predicted_class)\n",
    "\n",
    "print(\"Predicted Stress Level:\", predicted_class)"
   ]
  },
  {
   "cell_type": "code",
   "execution_count": 6,
   "metadata": {},
   "outputs": [],
   "source": [
    "from tensorflow.keras.models import load_model\n",
    "best_model = load_model(model_save_path)"
   ]
  }
 ],
 "metadata": {
  "kernelspec": {
   "display_name": "Python 3",
   "language": "python",
   "name": "python3"
  },
  "language_info": {
   "codemirror_mode": {
    "name": "ipython",
    "version": 3
   },
   "file_extension": ".py",
   "mimetype": "text/x-python",
   "name": "python",
   "nbconvert_exporter": "python",
   "pygments_lexer": "ipython3",
   "version": "3.11.4"
  }
 },
 "nbformat": 4,
 "nbformat_minor": 2
}
